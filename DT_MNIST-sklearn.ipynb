{
 "cells": [
  {
   "cell_type": "code",
   "execution_count": 1,
   "metadata": {},
   "outputs": [],
   "source": [
    "from __future__ import print_function, division\n",
    "#from future.utils import iteritems\n",
    "from builtins import range, input\n",
    "from get_data import xor_data\n",
    "from get_data import donut_data\n",
    "from get_data import fig_data\n",
    "# Note: you may need to update your version of future\n",
    "# sudo pip install -U future\n",
    "\n",
    "\n",
    "import numpy as np\n",
    "#from util import get_data, get_xor, get_donut\n",
    "from datetime import datetime"
   ]
  },
  {
   "cell_type": "code",
   "execution_count": 2,
   "metadata": {},
   "outputs": [],
   "source": [
    "Xtrain,Ytrain,Xtest,Ytest=fig_data(limit=10000,ratio=0.5,seed=100)\n",
    "# try donut and xor\n",
    "X1,Y1=Xtrain,Ytrain"
   ]
  },
  {
   "cell_type": "code",
   "execution_count": 3,
   "metadata": {},
   "outputs": [],
   "source": [
    "from sklearn.tree import DecisionTreeClassifier\n",
    "dtree = DecisionTreeClassifier()\n"
   ]
  },
  {
   "cell_type": "code",
   "execution_count": 4,
   "metadata": {},
   "outputs": [],
   "source": [
    "dtree=dtree.fit(Xtrain,Ytrain)"
   ]
  },
  {
   "cell_type": "code",
   "execution_count": 5,
   "metadata": {},
   "outputs": [],
   "source": [
    "predictions = dtree.predict(Xtrain)"
   ]
  },
  {
   "cell_type": "code",
   "execution_count": 6,
   "metadata": {},
   "outputs": [],
   "source": [
    "from sklearn.metrics import classification_report,confusion_matrix"
   ]
  },
  {
   "cell_type": "code",
   "execution_count": 7,
   "metadata": {},
   "outputs": [
    {
     "name": "stdout",
     "output_type": "stream",
     "text": [
      "             precision    recall  f1-score   support\n",
      "\n",
      "        0.0       1.00      1.00      1.00       497\n",
      "        1.0       1.00      1.00      1.00       537\n",
      "        2.0       1.00      1.00      1.00       506\n",
      "        3.0       1.00      1.00      1.00       482\n",
      "        4.0       1.00      1.00      1.00       468\n",
      "        5.0       1.00      1.00      1.00       467\n",
      "        6.0       1.00      1.00      1.00       490\n",
      "        7.0       1.00      1.00      1.00       515\n",
      "        8.0       1.00      1.00      1.00       512\n",
      "        9.0       1.00      1.00      1.00       526\n",
      "\n",
      "avg / total       1.00      1.00      1.00      5000\n",
      "\n"
     ]
    }
   ],
   "source": [
    "print(classification_report(Ytrain,predictions))"
   ]
  },
  {
   "cell_type": "code",
   "execution_count": 8,
   "metadata": {},
   "outputs": [
    {
     "name": "stdout",
     "output_type": "stream",
     "text": [
      "[[497   0   0   0   0   0   0   0   0   0]\n",
      " [  0 537   0   0   0   0   0   0   0   0]\n",
      " [  0   0 506   0   0   0   0   0   0   0]\n",
      " [  0   0   0 482   0   0   0   0   0   0]\n",
      " [  0   0   0   0 468   0   0   0   0   0]\n",
      " [  0   0   0   0   0 467   0   0   0   0]\n",
      " [  0   0   0   0   0   0 490   0   0   0]\n",
      " [  0   0   0   0   0   0   0 515   0   0]\n",
      " [  0   0   0   0   0   0   0   0 512   0]\n",
      " [  0   0   0   0   0   0   0   0   0 526]]\n"
     ]
    }
   ],
   "source": [
    "print(confusion_matrix(Ytrain,predictions))"
   ]
  },
  {
   "cell_type": "code",
   "execution_count": 9,
   "metadata": {
    "scrolled": true
   },
   "outputs": [],
   "source": [
    "import graphviz \n",
    "#from sklearn.tree import export_graphviz\n",
    "from sklearn import tree\n"
   ]
  },
  {
   "cell_type": "code",
   "execution_count": 10,
   "metadata": {},
   "outputs": [],
   "source": [
    "clf = tree.DecisionTreeClassifier()"
   ]
  },
  {
   "cell_type": "code",
   "execution_count": 11,
   "metadata": {},
   "outputs": [
    {
     "data": {
      "text/plain": [
       "'MNIST.pdf'"
      ]
     },
     "execution_count": 11,
     "metadata": {},
     "output_type": "execute_result"
    }
   ],
   "source": [
    "\n",
    "clf = clf.fit(Xtrain, Ytrain)\n",
    "dot_data = tree.export_graphviz(clf, out_file=None) \n",
    "graph = graphviz.Source(dot_data) \n",
    "graph.render(\"MNIST\")"
   ]
  },
  {
   "cell_type": "code",
   "execution_count": 12,
   "metadata": {},
   "outputs": [
    {
     "name": "stdout",
     "output_type": "stream",
     "text": [
      "             precision    recall  f1-score   support\n",
      "\n",
      "        0.0       1.00      1.00      1.00       497\n",
      "        1.0       1.00      1.00      1.00       537\n",
      "        2.0       1.00      1.00      1.00       506\n",
      "        3.0       1.00      1.00      1.00       482\n",
      "        4.0       1.00      1.00      1.00       468\n",
      "        5.0       1.00      1.00      1.00       467\n",
      "        6.0       1.00      1.00      1.00       490\n",
      "        7.0       1.00      1.00      1.00       515\n",
      "        8.0       1.00      1.00      1.00       512\n",
      "        9.0       1.00      1.00      1.00       526\n",
      "\n",
      "avg / total       1.00      1.00      1.00      5000\n",
      "\n",
      "[[497   0   0   0   0   0   0   0   0   0]\n",
      " [  0 537   0   0   0   0   0   0   0   0]\n",
      " [  0   0 506   0   0   0   0   0   0   0]\n",
      " [  0   0   0 482   0   0   0   0   0   0]\n",
      " [  0   0   0   0 468   0   0   0   0   0]\n",
      " [  0   0   0   0   0 467   0   0   0   0]\n",
      " [  0   0   0   0   0   0 490   0   0   0]\n",
      " [  0   0   0   0   0   0   0 515   0   0]\n",
      " [  0   0   0   0   0   0   0   0 512   0]\n",
      " [  0   0   0   0   0   0   0   0   0 526]]\n"
     ]
    }
   ],
   "source": [
    "#X1,Y1 10 classes\n",
    "from sklearn.tree import DecisionTreeClassifier\n",
    "dtree_ = DecisionTreeClassifier()\n",
    "dtree_=dtree_.fit(X1,Y1)\n",
    "predictions_ = dtree_.predict(X1)\n",
    "from sklearn.metrics import classification_report,confusion_matrix\n",
    "print(classification_report(Y1,predictions_))\n",
    "print(confusion_matrix(Y1,predictions_))"
   ]
  },
  {
   "cell_type": "code",
   "execution_count": 71,
   "metadata": {},
   "outputs": [
    {
     "data": {
      "text/plain": [
       "'MNIST_multiclass.pdf'"
      ]
     },
     "execution_count": 71,
     "metadata": {},
     "output_type": "execute_result"
    }
   ],
   "source": [
    "import graphviz \n",
    "#from sklearn.tree import export_graphviz\n",
    "from sklearn import tree\n",
    "clf = tree.DecisionTreeClassifier()\n",
    "clf = clf.fit(X1, Y1)\n",
    "dot_data = tree.export_graphviz(clf, out_file=None) \n",
    "graph = graphviz.Source(dot_data) \n",
    "graph.render(\"MNIST_multiclass\")"
   ]
  },
  {
   "cell_type": "code",
   "execution_count": null,
   "metadata": {},
   "outputs": [],
   "source": []
  }
 ],
 "metadata": {
  "kernelspec": {
   "display_name": "Python 3",
   "language": "python",
   "name": "python3"
  },
  "language_info": {
   "codemirror_mode": {
    "name": "ipython",
    "version": 3
   },
   "file_extension": ".py",
   "mimetype": "text/x-python",
   "name": "python",
   "nbconvert_exporter": "python",
   "pygments_lexer": "ipython3",
   "version": "3.6.4"
  }
 },
 "nbformat": 4,
 "nbformat_minor": 2
}
